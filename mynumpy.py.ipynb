{
 "cells": [
  {
   "cell_type": "code",
   "execution_count": 1,
   "id": "fe06068c",
   "metadata": {},
   "outputs": [
    {
     "name": "stdout",
     "output_type": "stream",
     "text": [
      "Requirement already satisfied: numpy in c:\\users\\admin\\anaconda3\\lib\\site-packages (1.24.3)\n",
      "Note: you may need to restart the kernel to use updated packages.\n"
     ]
    }
   ],
   "source": [
    "pip install numpy"
   ]
  },
  {
   "cell_type": "code",
   "execution_count": 2,
   "id": "6a9dd41b",
   "metadata": {},
   "outputs": [],
   "source": [
    "import numpy as np"
   ]
  },
  {
   "cell_type": "code",
   "execution_count": 6,
   "id": "d2535f59",
   "metadata": {},
   "outputs": [],
   "source": [
    "myarr= np.array([[3,4,9], [None,2,7],[8,3,6]])\n"
   ]
  },
  {
   "cell_type": "code",
   "execution_count": 7,
   "id": "5b541019",
   "metadata": {},
   "outputs": [
    {
     "data": {
      "text/plain": [
       "array([[3, 4, 9],\n",
       "       [None, 2, 7],\n",
       "       [8, 3, 6]], dtype=object)"
      ]
     },
     "execution_count": 7,
     "metadata": {},
     "output_type": "execute_result"
    }
   ],
   "source": [
    "myarr"
   ]
  },
  {
   "cell_type": "code",
   "execution_count": 8,
   "id": "09e5fe91",
   "metadata": {},
   "outputs": [
    {
     "data": {
      "text/plain": [
       "numpy.ndarray"
      ]
     },
     "execution_count": 8,
     "metadata": {},
     "output_type": "execute_result"
    }
   ],
   "source": [
    "type(myarr)"
   ]
  },
  {
   "cell_type": "code",
   "execution_count": 9,
   "id": "930d8976",
   "metadata": {},
   "outputs": [
    {
     "data": {
      "text/plain": [
       "9"
      ]
     },
     "execution_count": 9,
     "metadata": {},
     "output_type": "execute_result"
    }
   ],
   "source": [
    "myarr.size"
   ]
  },
  {
   "cell_type": "code",
   "execution_count": 10,
   "id": "d77a5ec1",
   "metadata": {},
   "outputs": [
    {
     "data": {
      "text/plain": [
       "2"
      ]
     },
     "execution_count": 10,
     "metadata": {},
     "output_type": "execute_result"
    }
   ],
   "source": [
    "myarr.ndim"
   ]
  },
  {
   "cell_type": "code",
   "execution_count": 11,
   "id": "7e52f493",
   "metadata": {},
   "outputs": [
    {
     "data": {
      "text/plain": [
       "(3, 3)"
      ]
     },
     "execution_count": 11,
     "metadata": {},
     "output_type": "execute_result"
    }
   ],
   "source": [
    "myarr.shape"
   ]
  },
  {
   "cell_type": "code",
   "execution_count": 12,
   "id": "b261f820",
   "metadata": {},
   "outputs": [
    {
     "data": {
      "text/plain": [
       "dtype('O')"
      ]
     },
     "execution_count": 12,
     "metadata": {},
     "output_type": "execute_result"
    }
   ],
   "source": [
    "myarr.dtype"
   ]
  },
  {
   "cell_type": "code",
   "execution_count": 13,
   "id": "3161429e",
   "metadata": {},
   "outputs": [
    {
     "name": "stdout",
     "output_type": "stream",
     "text": [
      "Array stores elements of type:  object\n"
     ]
    }
   ],
   "source": [
    "print(\"Array stores elements of type: \", myarr.dtype)"
   ]
  },
  {
   "cell_type": "code",
   "execution_count": 16,
   "id": "c682fcd1",
   "metadata": {},
   "outputs": [
    {
     "data": {
      "text/plain": [
       "array([9], dtype=object)"
      ]
     },
     "execution_count": 16,
     "metadata": {},
     "output_type": "execute_result"
    }
   ],
   "source": [
    "myarr[0:1,2]"
   ]
  },
  {
   "cell_type": "code",
   "execution_count": 17,
   "id": "e713d28a",
   "metadata": {},
   "outputs": [
    {
     "data": {
      "text/plain": [
       "array([[8, 3, 6]], dtype=object)"
      ]
     },
     "execution_count": 17,
     "metadata": {},
     "output_type": "execute_result"
    }
   ],
   "source": [
    "myarr[2:]"
   ]
  },
  {
   "cell_type": "code",
   "execution_count": 18,
   "id": "db39f1cd",
   "metadata": {},
   "outputs": [
    {
     "data": {
      "text/plain": [
       "array([[8, 3, 6]], dtype=object)"
      ]
     },
     "execution_count": 18,
     "metadata": {},
     "output_type": "execute_result"
    }
   ],
   "source": [
    "myarr[-1:]"
   ]
  },
  {
   "cell_type": "code",
   "execution_count": 19,
   "id": "d8e34ba3",
   "metadata": {},
   "outputs": [
    {
     "data": {
      "text/plain": [
       "array([[None, 2, 7],\n",
       "       [8, 3, 6]], dtype=object)"
      ]
     },
     "execution_count": 19,
     "metadata": {},
     "output_type": "execute_result"
    }
   ],
   "source": [
    "myarr[-2:]"
   ]
  },
  {
   "cell_type": "code",
   "execution_count": 20,
   "id": "841da666",
   "metadata": {},
   "outputs": [
    {
     "data": {
      "text/plain": [
       "array([[3, 4, 9],\n",
       "       [None, 2, 7],\n",
       "       [8, 3, 6]], dtype=object)"
      ]
     },
     "execution_count": 20,
     "metadata": {},
     "output_type": "execute_result"
    }
   ],
   "source": [
    "myarr"
   ]
  },
  {
   "cell_type": "code",
   "execution_count": 21,
   "id": "f448a530",
   "metadata": {},
   "outputs": [
    {
     "data": {
      "text/plain": [
       "array([4, 2], dtype=object)"
      ]
     },
     "execution_count": 21,
     "metadata": {},
     "output_type": "execute_result"
    }
   ],
   "source": [
    "myarr[0:2,1]"
   ]
  },
  {
   "cell_type": "markdown",
   "id": "f96c1953",
   "metadata": {},
   "source": [
    "myarr[0:2,1:3]"
   ]
  },
  {
   "cell_type": "code",
   "execution_count": 24,
   "id": "023d68d3",
   "metadata": {},
   "outputs": [
    {
     "data": {
      "text/plain": [
       "array([[3, 4, 9],\n",
       "       [None, 2, 7]], dtype=object)"
      ]
     },
     "execution_count": 24,
     "metadata": {},
     "output_type": "execute_result"
    }
   ],
   "source": [
    "myarr[0:2]"
   ]
  },
  {
   "cell_type": "code",
   "execution_count": 25,
   "id": "480d51fd",
   "metadata": {},
   "outputs": [
    {
     "data": {
      "text/plain": [
       "array([[None, 2, 7]], dtype=object)"
      ]
     },
     "execution_count": 25,
     "metadata": {},
     "output_type": "execute_result"
    }
   ],
   "source": [
    "myarr[1:2]"
   ]
  },
  {
   "cell_type": "code",
   "execution_count": 27,
   "id": "e388eb8c",
   "metadata": {},
   "outputs": [],
   "source": [
    "#Task: Find the mean of every row have them in an array. use numpy"
   ]
  },
  {
   "cell_type": "code",
   "execution_count": 31,
   "id": "a610b16a",
   "metadata": {},
   "outputs": [],
   "source": [
    "myarr=np.mean([3,4,9])"
   ]
  },
  {
   "cell_type": "code",
   "execution_count": null,
   "id": "2804ad78",
   "metadata": {},
   "outputs": [],
   "source": [
    "myarr."
   ]
  }
 ],
 "metadata": {
  "kernelspec": {
   "display_name": "Python 3 (ipykernel)",
   "language": "python",
   "name": "python3"
  },
  "language_info": {
   "codemirror_mode": {
    "name": "ipython",
    "version": 3
   },
   "file_extension": ".py",
   "mimetype": "text/x-python",
   "name": "python",
   "nbconvert_exporter": "python",
   "pygments_lexer": "ipython3",
   "version": "3.11.5"
  }
 },
 "nbformat": 4,
 "nbformat_minor": 5
}
